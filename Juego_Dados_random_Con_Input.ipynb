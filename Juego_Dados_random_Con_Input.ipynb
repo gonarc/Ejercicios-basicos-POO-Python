{
  "nbformat": 4,
  "nbformat_minor": 0,
  "metadata": {
    "colab": {
      "provenance": [],
      "authorship_tag": "ABX9TyMMrgM73IM3ZbNQCaIcQG/C",
      "include_colab_link": true
    },
    "kernelspec": {
      "name": "python3",
      "display_name": "Python 3"
    },
    "language_info": {
      "name": "python"
    }
  },
  "cells": [
    {
      "cell_type": "markdown",
      "metadata": {
        "id": "view-in-github",
        "colab_type": "text"
      },
      "source": [
        "<a href=\"https://colab.research.google.com/github/gonarc/EjerciciosPython/blob/main/Juego_Dados_random_Con_Input.ipynb\" target=\"_parent\"><img src=\"https://colab.research.google.com/assets/colab-badge.svg\" alt=\"Open In Colab\"/></a>"
      ]
    },
    {
      "cell_type": "code",
      "execution_count": 46,
      "metadata": {
        "colab": {
          "base_uri": "https://localhost:8080/"
        },
        "id": "AIgfTbj6177v",
        "outputId": "d166ee16-9890-4c8b-d0ce-a1cfa215d5db"
      },
      "outputs": [
        {
          "output_type": "stream",
          "name": "stdout",
          "text": [
            "Nombre jugador 1: Gonzalo\n",
            "Nombre jugador 2: Camila\n",
            "Jugaran: -- Gonzalo VS Camila --\n",
            "\n",
            "Gonzalo ingrese un numero para apostar: 5\n",
            "Camila ingrese un numero para apostar: 10\n",
            "\n",
            "La apuesta de Gonzalo es: 5\n",
            "La apuesta de Camila es: 10\n",
            "\n",
            "El resultado del dado es -- 7 --\n",
            "\n",
            "-- GANADOR GONZALO --\n"
          ]
        }
      ],
      "source": [
        "\n",
        "class Jugadores():\n",
        "\n",
        "  def __init__(self):\n",
        "    self.nombre_jugador1=None\n",
        "    self.nombre_jugador2=None\n",
        "    self.lanzar=False\n",
        "    self.numeroRandom=None\n",
        "    self.apuesta1=0\n",
        "    self.apuesta2=0\n",
        "\n",
        "  def nombre_jugadores(self,nombre1,nombre2):\n",
        "    self.nombre_jugador1=nombre1\n",
        "    self.nombre_jugador2=nombre2\n",
        "\n",
        "  def lanzamiento(self,inicio):\n",
        "    self.lanzar=inicio\n",
        "    if self.lanzar:\n",
        "      print(\"Jugaran:\",\"--\",self.nombre_jugador1,\"VS\",self.nombre_jugador2,\"--\")\n",
        "      print(\"\")\n",
        "      import random\n",
        "      self.numeroRandom=random.randint(2,12)\n",
        "      return \"Lanzamiento de dados iniciado\"\n",
        "    else:\n",
        "      return \"Esperando el lanzamiento\"\n",
        "\n",
        "  def apuestas(self,apuesta1,apuesta2):\n",
        "    apuesta1=int(apuesta1)\n",
        "    apuesta2=int(apuesta2)\n",
        "    self.apuesta1=apuesta1\n",
        "    self.apuesta2=apuesta2\n",
        "    print(\"\")\n",
        "    print(\"La apuesta de\",self.nombre_jugador1,\"es:\", self.apuesta1)\n",
        "    print(\"La apuesta de\",self.nombre_jugador2,\"es:\", self.apuesta2)\n",
        "\n",
        "\n",
        "  def resultados(self):\n",
        "    print(\"\")\n",
        "    print(\"El resultado del dado es\",\"--\",self.numeroRandom,\"--\")\n",
        "    print(\"\")\n",
        "    if abs(self.numeroRandom-self.apuesta1)<abs(self.numeroRandom - self.apuesta2):\n",
        "        print(\"--\",\"GANADOR\",self.nombre_jugador1.upper(),\"--\")\n",
        "    elif abs(self.numeroRandom-self.apuesta2)<abs(self.numeroRandom - self.apuesta1):\n",
        "        print(\"--\",\"GANADOR\",self.nombre_jugador2.upper(),\"--\")\n",
        "\n",
        "    else:\n",
        "        print(\"¡EMPATE!\")      \n",
        "        \n",
        "miJugada=Jugadores()\n",
        "miJugada.nombre_jugadores(input(\"Nombre jugador 1: \"),input(\"Nombre jugador 2: \"))\n",
        "miJugada.lanzamiento(True)\n",
        "miJugada.apuestas(input(f\"{miJugada.nombre_jugador1} ingrese un numero para apostar: \"),input(f\"{miJugada.nombre_jugador2} ingrese un numero para apostar: \"))\n",
        "miJugada.resultados()"
      ]
    }
  ]
}