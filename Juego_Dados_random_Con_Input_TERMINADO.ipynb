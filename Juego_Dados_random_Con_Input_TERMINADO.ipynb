{
  "nbformat": 4,
  "nbformat_minor": 0,
  "metadata": {
    "colab": {
      "provenance": [],
      "include_colab_link": true
    },
    "kernelspec": {
      "name": "python3",
      "display_name": "Python 3"
    },
    "language_info": {
      "name": "python"
    }
  },
  "cells": [
    {
      "cell_type": "markdown",
      "metadata": {
        "id": "view-in-github",
        "colab_type": "text"
      },
      "source": [
        "<a href=\"https://colab.research.google.com/github/gonarc/EjerciciosPython/blob/main/Juego_Dados_random_Con_Input_TERMINADO.ipynb\" target=\"_parent\"><img src=\"https://colab.research.google.com/assets/colab-badge.svg\" alt=\"Open In Colab\"/></a>"
      ]
    },
    {
      "cell_type": "code",
      "execution_count": 29,
      "metadata": {
        "id": "AIgfTbj6177v",
        "colab": {
          "base_uri": "https://localhost:8080/",
          "height": 866
        },
        "outputId": "daa42aa5-75bc-4b99-d764-985ac0ef4245"
      },
      "outputs": [
        {
          "output_type": "stream",
          "name": "stdout",
          "text": [
            "Nombre jugador 1: Gonzalo\n",
            "Nombre jugador 2: Camila\n",
            "Jugaran: -- Gonzalo VS Camila --\n",
            "¿Cúantas rondas desea jugar? 3\n",
            "SE JUGARAN 3 RONDAS.\n",
            "\n",
            "\n",
            "-- Lanzamiento de dados iniciado --\n",
            "\n",
            "Gonzalo ingrese un numero para apostar: 5\n",
            "Camila ingrese un numero para apostar: 4\n",
            "\n",
            "La apuesta de Gonzalo es: 5\n",
            "La apuesta de Camila es: 4\n",
            "\n",
            "El resultado del dado es -- 4 --\n",
            "\n",
            "¡ CAMILA ACERTÓ EL NÚMERO ! x2\n",
            "-- GANADOR CAMILA --\n",
            "Gonzalo = 0  Camila = 2\n",
            "\n",
            "\n",
            "\n",
            "\n",
            "\n",
            "-- Lanzamiento de dados iniciado --\n",
            "\n"
          ]
        },
        {
          "output_type": "error",
          "ename": "KeyboardInterrupt",
          "evalue": "ignored",
          "traceback": [
            "\u001b[0;31m---------------------------------------------------------------------------\u001b[0m",
            "\u001b[0;31mKeyboardInterrupt\u001b[0m                         Traceback (most recent call last)",
            "\u001b[0;32m<ipython-input-29-f09207d39575>\u001b[0m in \u001b[0;36m<module>\u001b[0;34m\u001b[0m\n\u001b[1;32m     74\u001b[0m \u001b[0;32mwhile\u001b[0m \u001b[0mmiJugada\u001b[0m\u001b[0;34m.\u001b[0m\u001b[0mtriunfos_jugador1\u001b[0m \u001b[0;34m<\u001b[0m\u001b[0mmiJugada\u001b[0m\u001b[0;34m.\u001b[0m\u001b[0mrondas_a_jugar\u001b[0m \u001b[0;32mand\u001b[0m \u001b[0mmiJugada\u001b[0m\u001b[0;34m.\u001b[0m\u001b[0mtriunfos_jugador2\u001b[0m \u001b[0;34m<\u001b[0m\u001b[0mmiJugada\u001b[0m\u001b[0;34m.\u001b[0m\u001b[0mrondas_a_jugar\u001b[0m\u001b[0;34m:\u001b[0m\u001b[0;34m\u001b[0m\u001b[0;34m\u001b[0m\u001b[0m\n\u001b[1;32m     75\u001b[0m  \u001b[0mmiJugada\u001b[0m\u001b[0;34m.\u001b[0m\u001b[0mlanzamiento\u001b[0m\u001b[0;34m(\u001b[0m\u001b[0;32mTrue\u001b[0m\u001b[0;34m)\u001b[0m\u001b[0;34m\u001b[0m\u001b[0;34m\u001b[0m\u001b[0m\n\u001b[0;32m---> 76\u001b[0;31m  \u001b[0mmiJugada\u001b[0m\u001b[0;34m.\u001b[0m\u001b[0mapuestas\u001b[0m\u001b[0;34m(\u001b[0m\u001b[0minput\u001b[0m\u001b[0;34m(\u001b[0m\u001b[0;34mf\"{miJugada.nombre_jugador1} ingrese un numero para apostar: \"\u001b[0m\u001b[0;34m)\u001b[0m\u001b[0;34m,\u001b[0m\u001b[0minput\u001b[0m\u001b[0;34m(\u001b[0m\u001b[0;34mf\"{miJugada.nombre_jugador2} ingrese un numero para apostar: \"\u001b[0m\u001b[0;34m)\u001b[0m\u001b[0;34m)\u001b[0m\u001b[0;34m\u001b[0m\u001b[0;34m\u001b[0m\u001b[0m\n\u001b[0m\u001b[1;32m     77\u001b[0m  \u001b[0mmiJugada\u001b[0m\u001b[0;34m.\u001b[0m\u001b[0mresultados\u001b[0m\u001b[0;34m(\u001b[0m\u001b[0;34m)\u001b[0m\u001b[0;34m\u001b[0m\u001b[0;34m\u001b[0m\u001b[0m\n\u001b[1;32m     78\u001b[0m  \u001b[0mprint\u001b[0m\u001b[0;34m(\u001b[0m\u001b[0;34mf\"{miJugada.nombre_jugador1} = {miJugada.triunfos_jugador1}  {miJugada.nombre_jugador2} = {miJugada.triunfos_jugador2}\"\u001b[0m\u001b[0;34m)\u001b[0m\u001b[0;34m\u001b[0m\u001b[0;34m\u001b[0m\u001b[0m\n",
            "\u001b[0;32m/usr/local/lib/python3.8/dist-packages/ipykernel/kernelbase.py\u001b[0m in \u001b[0;36mraw_input\u001b[0;34m(self, prompt)\u001b[0m\n\u001b[1;32m    858\u001b[0m                 \u001b[0;34m\"raw_input was called, but this frontend does not support input requests.\"\u001b[0m\u001b[0;34m\u001b[0m\u001b[0;34m\u001b[0m\u001b[0m\n\u001b[1;32m    859\u001b[0m             )\n\u001b[0;32m--> 860\u001b[0;31m         return self._input_request(str(prompt),\n\u001b[0m\u001b[1;32m    861\u001b[0m             \u001b[0mself\u001b[0m\u001b[0;34m.\u001b[0m\u001b[0m_parent_ident\u001b[0m\u001b[0;34m,\u001b[0m\u001b[0;34m\u001b[0m\u001b[0;34m\u001b[0m\u001b[0m\n\u001b[1;32m    862\u001b[0m             \u001b[0mself\u001b[0m\u001b[0;34m.\u001b[0m\u001b[0m_parent_header\u001b[0m\u001b[0;34m,\u001b[0m\u001b[0;34m\u001b[0m\u001b[0;34m\u001b[0m\u001b[0m\n",
            "\u001b[0;32m/usr/local/lib/python3.8/dist-packages/ipykernel/kernelbase.py\u001b[0m in \u001b[0;36m_input_request\u001b[0;34m(self, prompt, ident, parent, password)\u001b[0m\n\u001b[1;32m    902\u001b[0m             \u001b[0;32mexcept\u001b[0m \u001b[0mKeyboardInterrupt\u001b[0m\u001b[0;34m:\u001b[0m\u001b[0;34m\u001b[0m\u001b[0;34m\u001b[0m\u001b[0m\n\u001b[1;32m    903\u001b[0m                 \u001b[0;31m# re-raise KeyboardInterrupt, to truncate traceback\u001b[0m\u001b[0;34m\u001b[0m\u001b[0;34m\u001b[0m\u001b[0;34m\u001b[0m\u001b[0m\n\u001b[0;32m--> 904\u001b[0;31m                 \u001b[0;32mraise\u001b[0m \u001b[0mKeyboardInterrupt\u001b[0m\u001b[0;34m(\u001b[0m\u001b[0;34m\"Interrupted by user\"\u001b[0m\u001b[0;34m)\u001b[0m \u001b[0;32mfrom\u001b[0m \u001b[0;32mNone\u001b[0m\u001b[0;34m\u001b[0m\u001b[0;34m\u001b[0m\u001b[0m\n\u001b[0m\u001b[1;32m    905\u001b[0m             \u001b[0;32mexcept\u001b[0m \u001b[0mException\u001b[0m \u001b[0;32mas\u001b[0m \u001b[0me\u001b[0m\u001b[0;34m:\u001b[0m\u001b[0;34m\u001b[0m\u001b[0;34m\u001b[0m\u001b[0m\n\u001b[1;32m    906\u001b[0m                 \u001b[0mself\u001b[0m\u001b[0;34m.\u001b[0m\u001b[0mlog\u001b[0m\u001b[0;34m.\u001b[0m\u001b[0mwarning\u001b[0m\u001b[0;34m(\u001b[0m\u001b[0;34m\"Invalid Message:\"\u001b[0m\u001b[0;34m,\u001b[0m \u001b[0mexc_info\u001b[0m\u001b[0;34m=\u001b[0m\u001b[0;32mTrue\u001b[0m\u001b[0;34m)\u001b[0m\u001b[0;34m\u001b[0m\u001b[0;34m\u001b[0m\u001b[0m\n",
            "\u001b[0;31mKeyboardInterrupt\u001b[0m: Interrupted by user"
          ]
        }
      ],
      "source": [
        "\n",
        "class Jugadores():\n",
        "\n",
        "  def __init__(self):\n",
        "    self.rondas_a_jugar=0\n",
        "    self.nombre_jugador1=None\n",
        "    self.nombre_jugador2=None\n",
        "    self.lanzar=False\n",
        "    self.numeroRandom=None\n",
        "    self.apuesta1=0\n",
        "    self.apuesta2=0\n",
        "    self.triunfos_jugador1=0\n",
        "    self.triunfos_jugador2=0\n",
        "\n",
        "  def nombre_jugadores(self,nombre1,nombre2):\n",
        "    self.nombre_jugador1=nombre1\n",
        "    self.nombre_jugador2=nombre2\n",
        "    print(\"Jugaran:\",\"--\",self.nombre_jugador1,\"VS\",self.nombre_jugador2,\"--\")\n",
        "\n",
        "  def rondas(self,rondas):\n",
        "    self.rondas_a_jugar=rondas\n",
        "    print(\"SE JUGARAN\",self.rondas_a_jugar,\"RONDAS.\")\n",
        "\n",
        "  def lanzamiento(self,inicio):\n",
        "    self.lanzar=inicio\n",
        "    if self.lanzar:\n",
        "     print(\"\")\n",
        "     print(\"\")\n",
        "     import random\n",
        "     self.numeroRandom=random.randint(2,12)\n",
        "     print(\"-- Lanzamiento de dados iniciado --\")\n",
        "     print(\"\")\n",
        "\n",
        "    else:\n",
        "      print(\"Esperando el lanzamiento\")\n",
        "\n",
        "  def apuestas(self,apuesta1,apuesta2):\n",
        "        apuesta1=int(apuesta1)\n",
        "        apuesta2=int(apuesta2)\n",
        "        self.apuesta1=apuesta1\n",
        "        self.apuesta2=apuesta2\n",
        "        print(\"\")\n",
        "        print(\"La apuesta de\",self.nombre_jugador1,\"es:\", self.apuesta1)\n",
        "        print(\"La apuesta de\",self.nombre_jugador2,\"es:\", self.apuesta2)\n",
        "\n",
        "\n",
        "  def resultados(self):\n",
        "        print(\"\")\n",
        "        print(\"El resultado del dado es\",\"--\",self.numeroRandom,\"--\")\n",
        "        print(\"\")\n",
        "        if self.numeroRandom == self.apuesta1:\n",
        "          self.triunfos_jugador1+=1\n",
        "          self.triunfos_jugador1 =int(self.triunfos_jugador1)\n",
        "          print(\"¡\",self.nombre_jugador1.upper(),\"ACERTÓ EL NÚMERO !\",\"X2\")\n",
        "        elif self.numeroRandom == self.apuesta2:\n",
        "          self.triunfos_jugador2+=1\n",
        "          self.triunfos_jugador2 =int(self.triunfos_jugador2)\n",
        "          print(\"¡\",self.nombre_jugador2.upper(),\"ACERTÓ EL NÚMERO !\",\"x2\") \n",
        "        if abs(self.numeroRandom-self.apuesta1)<abs(self.numeroRandom - self.apuesta2):\n",
        "            print(\"--\",\"GANADOR\",self.nombre_jugador1.upper(),\"--\")            \n",
        "            self.triunfos_jugador1+=1\n",
        "            self.triunfos_jugador1 =int(self.triunfos_jugador1)\n",
        "        elif abs(self.numeroRandom-self.apuesta2)<abs(self.numeroRandom - self.apuesta1):\n",
        "            print(\"--\",\"GANADOR\",self.nombre_jugador2.upper(),\"--\")\n",
        "            self.triunfos_jugador2+=1\n",
        "            self.triunfos_jugador2 =int(self.triunfos_jugador2)\n",
        "\n",
        "        else:\n",
        "            print(\"¡EMPATE!\")        \n",
        "        \n",
        "miJugada=Jugadores()\n",
        "miJugada.nombre_jugadores(input(\"Nombre jugador 1: \"),input(\"Nombre jugador 2: \"))\n",
        "miJugada.rondas(int(input(\"¿Cúantas rondas desea jugar? \")))\n",
        "\n",
        "while miJugada.triunfos_jugador1 <miJugada.rondas_a_jugar and miJugada.triunfos_jugador2 <miJugada.rondas_a_jugar: \n",
        " miJugada.lanzamiento(True)\n",
        " miJugada.apuestas(input(f\"{miJugada.nombre_jugador1} ingrese un numero para apostar: \"),input(f\"{miJugada.nombre_jugador2} ingrese un numero para apostar: \"))\n",
        " miJugada.resultados()\n",
        " print(f\"{miJugada.nombre_jugador1} = {miJugada.triunfos_jugador1}  {miJugada.nombre_jugador2} = {miJugada.triunfos_jugador2}\")\n",
        " print(\"\")\n",
        " print(\"\")\n",
        " print(\"\")\n",
        "\n",
        "if miJugada.triunfos_jugador1 > miJugada.triunfos_jugador2:\n",
        "  print(f\"¡ GANADOR FINAL {miJugada.nombre_jugador1.upper()} !\")\n",
        "else:\n",
        "  print(f\"¡ GANADOR FINAL {miJugada.nombre_jugador2.upper()} !\")\n",
        "\n",
        "  \n",
        "\n"
      ]
    }
  ]
}